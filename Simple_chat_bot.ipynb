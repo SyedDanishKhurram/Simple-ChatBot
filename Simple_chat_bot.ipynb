{
  "nbformat": 4,
  "nbformat_minor": 0,
  "metadata": {
    "colab": {
      "provenance": [],
      "authorship_tag": "ABX9TyMlTBnoioaANUkoc4TDk7KD",
      "include_colab_link": true
    },
    "kernelspec": {
      "name": "python3",
      "display_name": "Python 3"
    },
    "language_info": {
      "name": "python"
    }
  },
  "cells": [
    {
      "cell_type": "markdown",
      "metadata": {
        "id": "view-in-github",
        "colab_type": "text"
      },
      "source": [
        "<a href=\"https://colab.research.google.com/github/SyedDanishKhurram/Simple-ChatBot/blob/main/Simple_chat_bot.ipynb\" target=\"_parent\"><img src=\"https://colab.research.google.com/assets/colab-badge.svg\" alt=\"Open In Colab\"/></a>"
      ]
    },
    {
      "cell_type": "code",
      "execution_count": null,
      "metadata": {
        "colab": {
          "base_uri": "https://localhost:8080/"
        },
        "id": "s7vkV0F0EeXM",
        "outputId": "d45f9f3c-d6e8-435f-98f3-b1ceec00aee1"
      },
      "outputs": [
        {
          "output_type": "stream",
          "name": "stdout",
          "text": [
            "You: hi\n",
            "Chatbot: Hello! How can I help you?\n",
            "You: bye\n",
            "Chatbot: Goodbye! Have a great day.\n",
            "You: j\n",
            "Chatbot: I'm a simple chatbot and didn't understand that. Can you rephrase or ask something else?\n"
          ]
        }
      ],
      "source": [
        "import random\n",
        "\n",
        "def simple_chatbot(user_input):\n",
        "    user_input = user_input.lower()\n",
        "\n",
        "    # Define some simple rules\n",
        "    Greetings = [\" \"]\n",
        "    greetings = ['hello', 'hi', 'hey', 'howdy']\n",
        "    farewell = ['bye', 'goodbye', 'see you']\n",
        "\n",
        "    # Check user input against rules\n",
        "    if any(Greeting in user_input for Greeting in Greetings):\n",
        "        return \"Welcome to capra\"\n",
        "\n",
        "    elif any(greeting in user_input for greeting in greetings):\n",
        "        return \"Hello! How can I help you?\"\n",
        "\n",
        "    elif any(word in user_input for word in farewell):\n",
        "        return \"Goodbye! Have a great day.\"\n",
        "\n",
        "    else:\n",
        "        return \"I'm a simple chatbot and didn't understand that. Can you rephrase or ask something else?\"\n",
        "\n",
        "# Main loop\n",
        "while True:\n",
        "    user_input = input(\"You: \")\n",
        "    if user_input.lower() == 'exit':\n",
        "        print(\"Chatbot: Good bye for futher details kindly contact = +92*******, for mail = Cap**@gmail.com \")\n",
        "        break\n",
        "\n",
        "    response = simple_chatbot(user_input)\n",
        "    print(\"Chatbot:\", response)\n",
        "\n"
      ]
    }
  ]
}